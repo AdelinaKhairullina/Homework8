{
 "cells": [
  {
   "cell_type": "markdown",
   "id": "e1acdbf4",
   "metadata": {},
   "source": [
    "Задание 1. Смоделировать игру против лотерейного автомата типа «777». \n"
   ]
  },
  {
   "cell_type": "code",
   "execution_count": 35,
   "id": "6f59699f",
   "metadata": {},
   "outputs": [
    {
     "name": "stdout",
     "output_type": "stream",
     "text": [
      "Средний выигрыш/проигрыш за одну игру: -0.1755 руб.\n",
      "Игра не выгодна для игрока.\n"
     ]
    }
   ],
   "source": [
    "import numpy as np\n",
    "\n",
    "def play_game_numpy():\n",
    "    # Игрок платит 1 рубль\n",
    "    player_money = -1\n",
    "\n",
    "    # Получаем случайное целое число от 0 до 999\n",
    "    result = np.random.randint(0, 1000)\n",
    "\n",
    "    # Определяем выигрыш игрока\n",
    "    if result == 777:\n",
    "        player_money += 200\n",
    "    elif result == 999:\n",
    "        player_money += 100\n",
    "    elif result == 555:\n",
    "        player_money += 50\n",
    "    elif result == 333:\n",
    "        player_money += 15\n",
    "    elif result == 111:\n",
    "        player_money += 10\n",
    "    elif result % 100 == 77:\n",
    "        player_money += 5\n",
    "    elif result % 10 == 7:\n",
    "        player_money += 3\n",
    "    elif result % 100 == 0:\n",
    "        player_money += 2\n",
    "    elif result % 10 == 0:\n",
    "        player_money += 1\n",
    "\n",
    "    return player_money\n",
    "\n",
    "# Проведем несколько 10 тысяч игр и посчитаем средний выигрыш/проигрыш\n",
    "num_games = 10000\n",
    "total_money = np.sum([play_game_numpy() for _ in range(num_games)])\n",
    "average_money = total_money / num_games\n",
    "\n",
    "print(f\"Средний выигрыш/проигрыш за одну игру: {average_money} руб.\")\n",
    "\n",
    "# Выводим информацию о том, выгодна ли игра для игрока\n",
    "if average_money > 0:\n",
    "    print(\"Игра выгодна для игрока.\")\n",
    "else:\n",
    "    print(\"Игра не выгодна для игрока.\")"
   ]
  },
  {
   "cell_type": "markdown",
   "id": "b2ed2bbf",
   "metadata": {},
   "source": [
    "Задание 2. Теоретически рассчитать средний выигрыш (проигрыш) и сравнить с результатами моделирования."
   ]
  },
  {
   "cell_type": "code",
   "execution_count": 36,
   "id": "a2da72d7",
   "metadata": {},
   "outputs": [
    {
     "name": "stdout",
     "output_type": "stream",
     "text": [
      "Теоретический средний выигрыш (проигрыш): -0.19999999999999996 руб.\n"
     ]
    }
   ],
   "source": [
    "p_777 = 1 / 1000  # Вероятность выпадения 777\n",
    "p_999 = 1 / 1000  # Вероятность выпадения 999\n",
    "p_555 = 1 / 1000  # Вероятность выпадения 555\n",
    "p_333 = 1 / 1000  # Вероятность выпадения 333\n",
    "p_111 = 1 / 1000  # Вероятность выпадения 111\n",
    "p_x77 = 9 / 1000  # Вероятность выпадения *77 (где x - любая цифра)\n",
    "p_x7 = 90 / 1000  # Вероятность выпадения **7 (где x - любая цифра)\n",
    "p_x00 = 10 / 1000  # Вероятность выпадения *00 (где x - любая цифра)\n",
    "p_x0 = 90 / 1000  # Вероятность выпадения **0 (где x - любая цифра)\n",
    "\n",
    "average_gain_or_loss_theoretical = (\n",
    "    p_777 * 200 +\n",
    "    p_999 * 100 +\n",
    "    p_555 * 50 +\n",
    "    p_333 * 15 +\n",
    "    p_111 * 10 +\n",
    "    p_x77 * 5 +\n",
    "    p_x7 * 3 +\n",
    "    p_x00 * 2 +\n",
    "    p_x0 * 1 -\n",
    "    1  # Стоимость каждой игры\n",
    ")\n",
    "\n",
    "print(f\"Теоретический средний выигрыш (проигрыш): {average_gain_or_loss_theoretical} руб.\")"
   ]
  },
  {
   "cell_type": "markdown",
   "id": "e7ec4d12",
   "metadata": {},
   "source": [
    "Выполним проверку. Будет ли стремиться моделирование игры с помощью метода Монте-Карло к теоретическому рассчету при увеличении количества проверок с 10 тысяч до 1 миллиона."
   ]
  },
  {
   "cell_type": "code",
   "execution_count": 34,
   "id": "49817f95",
   "metadata": {},
   "outputs": [
    {
     "name": "stdout",
     "output_type": "stream",
     "text": [
      "Средний выигрыш/проигрыш за одну игру: -0.197526 руб.\n",
      "Игра не выгодна для игрока.\n"
     ]
    }
   ],
   "source": [
    "import numpy as np\n",
    "\n",
    "def play_game_numpy():\n",
    "    # Игрок платит 1 рубль\n",
    "    player_money = -1\n",
    "\n",
    "    # Получаем случайное целое число от 0 до 999\n",
    "    result = np.random.randint(0, 1000)\n",
    "\n",
    "    # Определяем выигрыш игрока\n",
    "    if result == 777:\n",
    "        player_money += 200\n",
    "    elif result == 999:\n",
    "        player_money += 100\n",
    "    elif result == 555:\n",
    "        player_money += 50\n",
    "    elif result == 333:\n",
    "        player_money += 15\n",
    "    elif result == 111:\n",
    "        player_money += 10\n",
    "    elif result % 100 == 77:\n",
    "        player_money += 5\n",
    "    elif result % 10 == 7:\n",
    "        player_money += 3\n",
    "    elif result % 100 == 0:\n",
    "        player_money += 2\n",
    "    elif result % 10 == 0:\n",
    "        player_money += 1\n",
    "\n",
    "    return player_money\n",
    "\n",
    "# Проведем  миллион игр и посчитаем средний выигрыш/проигрыш\n",
    "num_games = 1000000\n",
    "total_money = np.sum([play_game_numpy() for _ in range(num_games)])\n",
    "average_money = total_money / num_games\n",
    "\n",
    "print(f\"Средний выигрыш/проигрыш за одну игру: {average_money} руб.\")\n",
    "\n",
    "# Выводим информацию о том, выгодна ли игра для игрока\n",
    "if average_money > 0:\n",
    "    print(\"Игра выгодна для игрока.\")\n",
    "else:\n",
    "    print(\"Игра не выгодна для игрока.\")"
   ]
  },
  {
   "cell_type": "markdown",
   "id": "40623886",
   "metadata": {},
   "source": [
    "Проверка пройдена успешно Теоритеческий проигрыш = -0.199 руб.. При 10 тысяч игр смоделированный выигрыш = -0.1755 руб, а при миллионе игр = -0.197526 руб."
   ]
  },
  {
   "cell_type": "code",
   "execution_count": null,
   "id": "5dea1831",
   "metadata": {},
   "outputs": [],
   "source": []
  }
 ],
 "metadata": {
  "kernelspec": {
   "display_name": "Python 3 (ipykernel)",
   "language": "python",
   "name": "python3"
  },
  "language_info": {
   "codemirror_mode": {
    "name": "ipython",
    "version": 3
   },
   "file_extension": ".py",
   "mimetype": "text/x-python",
   "name": "python",
   "nbconvert_exporter": "python",
   "pygments_lexer": "ipython3",
   "version": "3.11.4"
  }
 },
 "nbformat": 4,
 "nbformat_minor": 5
}
